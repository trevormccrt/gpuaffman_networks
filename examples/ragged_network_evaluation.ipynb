{
 "cells": [
  {
   "cell_type": "code",
   "execution_count": 22,
   "outputs": [],
   "source": [
    "import numpy as np\n",
    "import os\n",
    "import sys\n",
    "\n",
    "sys.path.append(os.path.join(os.getenv(\"HOME\"), \"gpuaffman_networks/\"))\n",
    "import general_network, ragged_general_network\n",
    "np.random.seed(11321)"
   ],
   "metadata": {
    "collapsed": false
   }
  },
  {
   "cell_type": "markdown",
   "source": [
    "The state of an N node boolean network is specified by a vector of N binary variables"
   ],
   "metadata": {
    "collapsed": false
   }
  },
  {
   "cell_type": "code",
   "execution_count": 17,
   "outputs": [
    {
     "name": "stdout",
     "output_type": "stream",
     "text": [
      "[ True False False  True False  True False False]\n"
     ]
    }
   ],
   "source": [
    "N = 8\n",
    "state = np.random.binomial(1, 0.5, N).astype(np.bool_)\n",
    "print(state)"
   ],
   "metadata": {
    "collapsed": false
   }
  },
  {
   "cell_type": "markdown",
   "source": [
    "In a ragged network, every node is wired to at most $k_{max}$ other nodes. We specify this connectivity via an $N \\times k_{max}$ integer matrix and an $N \\times k_{max}$ boolean matrix. The boolean matrix masks the integer matrix, and connections are active when the boolean matrix is True\n"
   ],
   "metadata": {
    "collapsed": false
   }
  },
  {
   "cell_type": "code",
   "execution_count": 18,
   "outputs": [
    {
     "name": "stdout",
     "output_type": "stream",
     "text": [
      "[[6 4 2]\n",
      " [1 0 3]\n",
      " [3 1 4]\n",
      " [2 6 0]\n",
      " [6 4 6]\n",
      " [2 3 1]\n",
      " [0 3 1]\n",
      " [6 5 0]]\n",
      "[[ True  True False]\n",
      " [ True  True False]\n",
      " [ True False  True]\n",
      " [ True  True False]\n",
      " [ True  True False]\n",
      " [False  True  True]\n",
      " [ True  True  True]\n",
      " [False  True False]]\n"
     ]
    }
   ],
   "source": [
    "k_max = 3\n",
    "connectivity = np.random.randint(0, N, (N, k_max)).astype(np.uint8)\n",
    "used_connectivity = np.random.binomial(1, 0.5, (N, k_max)).astype(np.bool_)\n",
    "print(connectivity)\n",
    "print(used_connectivity)\n"
   ],
   "metadata": {
    "collapsed": false
   }
  },
  {
   "cell_type": "markdown",
   "source": [
    "In this example, the active connections associated with node 0 are 6 and 4. The connection between node 0 and 2 is not active.\n"
   ],
   "metadata": {
    "collapsed": false
   }
  },
  {
   "cell_type": "markdown",
   "source": [
    "At each timestep, the state of a given node is updated according to the states of all the nodes it is connected to. This update rule is specified by a truth table for each node, an $N \\times 2^{k_{max}}$ boolean matrix\n"
   ],
   "metadata": {
    "collapsed": false
   }
  },
  {
   "cell_type": "code",
   "execution_count": 20,
   "outputs": [
    {
     "name": "stdout",
     "output_type": "stream",
     "text": [
      "[[False False  True  True  True False False False]\n",
      " [False False  True  True False  True  True  True]\n",
      " [False  True  True  True  True  True False  True]\n",
      " [False False  True False  True  True  True False]\n",
      " [False  True  True  True False False  True False]\n",
      " [ True  True False False  True False False False]\n",
      " [ True  True False False  True  True False False]\n",
      " [ True False  True False False  True False False]]\n"
     ]
    }
   ],
   "source": [
    "functions = np.random.binomial(1, 0.5, (N, 1 << k_max)).astype(np.bool_)\n",
    "print(functions)\n"
   ],
   "metadata": {
    "collapsed": false
   }
  },
  {
   "cell_type": "markdown",
   "source": [
    "So in this example, if at time $t$ nodes 6 and 4 are both in the state False, at time $t+1$ the state of node 0 will be updated to 0.\n"
   ],
   "metadata": {
    "collapsed": false
   }
  },
  {
   "cell_type": "markdown",
   "source": [
    "The functions in ragged_general_network.py do batch updating of the states of boolean networks. The inputs are the state at time $t$, the connectivity matrices, and the matrix of functions. The output is the state at time $t+1$.\n"
   ],
   "metadata": {
    "collapsed": false
   }
  },
  {
   "cell_type": "markdown",
   "source": [
    "The first step is to construct an $N \\times k_{max}$ matrix containing the state values used to update each node. I accomplish this with matrix slicing in general_network.get_update_inputs\n"
   ],
   "metadata": {
    "collapsed": false
   }
  },
  {
   "cell_type": "code",
   "execution_count": 23,
   "outputs": [
    {
     "name": "stdout",
     "output_type": "stream",
     "text": [
      "[[False False False]\n",
      " [False  True  True]\n",
      " [ True False False]\n",
      " [False False  True]\n",
      " [False False False]\n",
      " [False  True False]\n",
      " [ True  True False]\n",
      " [False  True  True]]\n"
     ]
    }
   ],
   "source": [
    "update_states = general_network.get_update_inputs(state, connectivity)\n",
    "print(update_states)\n"
   ],
   "metadata": {
    "collapsed": false
   }
  },
  {
   "cell_type": "markdown",
   "source": [
    "We can see that each row of the matrix contains the states at positions specified by connectivity. For example, the first row contains the states of nodes 6, 4 and 2.\n"
   ],
   "metadata": {
    "collapsed": false
   }
  },
  {
   "cell_type": "markdown",
   "source": [
    "Next I convert each row of update_states into it's corresponding integer value, taking into account the masking of used_connectivity. This is done using binary_core.binary_to_uint8. I then use the produced values to slice functions, which results in a vector containing the state at time $t+1$. This is accomplished by ragged_general_network.apply_ragged_k_binary_function\n"
   ],
   "metadata": {
    "collapsed": false
   }
  },
  {
   "cell_type": "code",
   "execution_count": 25,
   "outputs": [
    {
     "name": "stdout",
     "output_type": "stream",
     "text": [
      "[False  True  True False False False False  True]\n"
     ]
    }
   ],
   "source": [
    "state_tp1 = ragged_general_network.apply_ragged_k_binary_function(update_states, functions, used_connectivity)\n",
    "print(state_tp1)\n"
   ],
   "metadata": {
    "collapsed": false
   }
  }
 ],
 "metadata": {
  "kernelspec": {
   "display_name": "Python 3",
   "language": "python",
   "name": "python3"
  },
  "language_info": {
   "codemirror_mode": {
    "name": "ipython",
    "version": 2
   },
   "file_extension": ".py",
   "mimetype": "text/x-python",
   "name": "python",
   "nbconvert_exporter": "python",
   "pygments_lexer": "ipython2",
   "version": "2.7.6"
  }
 },
 "nbformat": 4,
 "nbformat_minor": 0
}
