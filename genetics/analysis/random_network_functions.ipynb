{
 "cells": [
  {
   "cell_type": "code",
   "execution_count": 5,
   "metadata": {
    "collapsed": true
   },
   "outputs": [],
   "source": [
    "import numpy as np\n",
    "import os\n",
    "import sympy\n",
    "import sys\n",
    "\n",
    "sys.path.append(os.path.join(os.getenv(\"HOME\"), \"gpuaffman_networks/\"))\n",
    "from genetics import natural_computation"
   ]
  },
  {
   "cell_type": "code",
   "execution_count": 16,
   "outputs": [
    {
     "name": "stderr",
     "output_type": "stream",
     "text": [
      "/home/trevor/gpuaffman_networks/genetics/natural_computation.py:31: VisibleDeprecationWarning: Creating an ndarray from ragged nested sequences (which is a list-or-tuple of lists-or-tuples-or ndarrays with different lengths or shapes) is deprecated. If you meant to do this, you must specify 'dtype=object' when creating the ndarray.\n",
      "  found_cycles = np.reshape(np.array(found_cycles), input_state.shape[:-1]).T\n"
     ]
    }
   ],
   "source": [
    "N = 40\n",
    "k_max = 3\n",
    "avg_k = 2.0\n",
    "batch_size = 50000\n",
    "input_bits = np.arange(start=0, stop=6, step=1)\n",
    "functions = np.random.binomial(1, 0.5, (batch_size, N, 1 << k_max)).astype(np.bool_)\n",
    "connectivity = np.random.randint(0, N, (batch_size, N, k_max)).astype(np.uint8)\n",
    "used_connectivity = np.random.binomial(1, avg_k/k_max, (batch_size, N, k_max)).astype(np.bool_)\n",
    "output_nodes, effective_truth_tables, computation_stablilize_time, computing_idx =  natural_computation.natural_computation_search(functions, connectivity, used_connectivity, input_bits)\n",
    "ordered_ranks, ordered_tts, ordered_out_nodes, ordered_times, ordered_idx = natural_computation.order_natural_computations_by_rank(output_nodes, effective_truth_tables, computation_stablilize_time, computing_idx)\n"
   ],
   "metadata": {
    "collapsed": false
   }
  },
  {
   "cell_type": "code",
   "execution_count": 20,
   "outputs": [],
   "source": [
    "boolean_syms = sympy.symbols('x0 x1 x2 x3 x4 x5')\n",
    "all_expressions = []\n",
    "for analysis_tt in ordered_tts:\n",
    "    expressions = []\n",
    "    for row in analysis_tt.T:\n",
    "        expressions.append(sympy.logic.boolalg.simplify_logic(sympy.logic.boolalg.ANFform(boolean_syms, row)))\n",
    "    all_expressions.append(expressions)\n"
   ],
   "metadata": {
    "collapsed": false
   }
  },
  {
   "cell_type": "code",
   "execution_count": null,
   "outputs": [],
   "source": [],
   "metadata": {
    "collapsed": false
   }
  }
 ],
 "metadata": {
  "kernelspec": {
   "display_name": "Python 3",
   "language": "python",
   "name": "python3"
  },
  "language_info": {
   "codemirror_mode": {
    "name": "ipython",
    "version": 2
   },
   "file_extension": ".py",
   "mimetype": "text/x-python",
   "name": "python",
   "nbconvert_exporter": "python",
   "pygments_lexer": "ipython2",
   "version": "2.7.6"
  }
 },
 "nbformat": 4,
 "nbformat_minor": 0
}
