{
 "cells": [
  {
   "cell_type": "code",
   "execution_count": 132,
   "metadata": {
    "collapsed": true
   },
   "outputs": [],
   "source": [
    "import cupy as cp\n",
    "import matplotlib.pyplot as plt\n",
    "import numpy as np\n",
    "import os\n",
    "import sys\n",
    "\n",
    "sys.path.append(os.path.join(os.getenv(\"HOME\"), \"gpuaffman_networks/\"))\n",
    "from genetics import tasks, ragged_task_evolution"
   ]
  },
  {
   "cell_type": "code",
   "execution_count": 133,
   "outputs": [],
   "source": [
    "plt_save_dir = \"/home/trevor/boolean_network_data/plots_and_misc_material\""
   ],
   "metadata": {
    "collapsed": false
   }
  },
  {
   "cell_type": "code",
   "execution_count": 134,
   "outputs": [],
   "source": [
    "input_states = tasks.make_2_bit_input_state(8)"
   ],
   "metadata": {
    "collapsed": false
   }
  },
  {
   "cell_type": "code",
   "execution_count": 135,
   "outputs": [],
   "source": [
    "data_dir_no_noise = \"boolean_network_data/and_evolution_results/no_noise_2023-03-13-20-40-28\"\n",
    "data_no_noise = np.load(os.path.join(os.getenv(\"HOME\"), data_dir_no_noise, \"batch_1.npz\"))\n",
    "nn_best_functions = data_no_noise[\"functions\"]\n",
    "nn_best_connectivity = data_no_noise[\"connectivity\"]\n",
    "nn_best_used_connectivity = data_no_noise[\"used_connectivity\"]\n",
    "nn_batched_input_state = np.broadcast_to(np.expand_dims(np.expand_dims(input_states, 1), 1), (input_states.shape[0], nn_best_functions.shape[0], 1, input_states.shape[-1]))\n",
    "errors_nn = ragged_task_evolution.evaluate_populations(nn_batched_input_state, 1, np.expand_dims(nn_best_functions, 1), np.expand_dims(nn_best_connectivity, 1), np.expand_dims(nn_best_used_connectivity, 1), 10, 0, tasks.evaluate_and_task)\n",
    "zero_idx = np.where(np.squeeze(errors_nn) == 0)\n",
    "perfs_nn = np.squeeze(zero_idx)\n",
    "nn_best_functions = nn_best_functions[perfs_nn]\n",
    "nn_best_connectivity = nn_best_connectivity[perfs_nn]\n",
    "nn_best_used_connectivity = nn_best_used_connectivity[perfs_nn]\n"
   ],
   "metadata": {
    "collapsed": false
   }
  },
  {
   "cell_type": "code",
   "execution_count": 136,
   "outputs": [],
   "source": [
    "data_dir_noise = \"boolean_network_data/and_evolution_results/2023-03-13-21-10-14\"\n",
    "data_noise = np.load(os.path.join(os.getenv(\"HOME\"), data_dir_noise, \"batch_1.npz\"))\n",
    "use_best = 20\n",
    "sorted_order = np.argsort(data_noise[\"errors\"])\n",
    "best_functions = data_noise[\"functions\"][sorted_order][:use_best]\n",
    "best_connectivity = data_noise[\"connectivity\"][sorted_order][:use_best]\n",
    "best_used_connectivity = data_noise[\"used_connectivity\"][sorted_order][:use_best]\n",
    "n_batched_input_state = np.broadcast_to(np.expand_dims(np.expand_dims(input_states, 1), 1), (input_states.shape[0], best_functions.shape[0], 1, input_states.shape[-1]))\n",
    "errors_n = ragged_task_evolution.evaluate_populations(n_batched_input_state, 1, np.expand_dims(best_functions, 1), np.expand_dims(best_connectivity, 1), np.expand_dims(best_used_connectivity, 1), 10, 0, tasks.evaluate_and_task)\n",
    "zero_idx = np.where(np.squeeze(errors_n) == 0)\n",
    "perfs_n = np.squeeze(zero_idx)\n",
    "best_functions = best_functions[perfs_n]\n",
    "best_connectivity = best_connectivity[perfs_n]\n",
    "best_used_connectivity = best_used_connectivity[perfs_n]"
   ],
   "metadata": {
    "collapsed": false
   }
  },
  {
   "cell_type": "code",
   "execution_count": 137,
   "outputs": [],
   "source": [
    "\n",
    "N = nn_best_functions.shape[1]"
   ],
   "metadata": {
    "collapsed": false
   }
  },
  {
   "cell_type": "code",
   "execution_count": 138,
   "outputs": [],
   "source": [
    "all_mutations = []\n",
    "for i in range(best_functions.shape[1]):\n",
    "    for j in range(best_functions.shape[2]):\n",
    "        mutation = np.zeros_like(best_functions[0])\n",
    "        mutation[i, j] = True\n",
    "        all_mutations.append(mutation)\n",
    "all_mutations = np.array(all_mutations)"
   ],
   "metadata": {
    "collapsed": false
   }
  },
  {
   "cell_type": "code",
   "execution_count": 139,
   "outputs": [],
   "source": [
    "all_conn_mutations = []\n",
    "for i in range(best_used_connectivity.shape[1]):\n",
    "    for j in range(best_used_connectivity.shape[2]):\n",
    "        mutation = np.zeros_like(best_used_connectivity[0])\n",
    "        mutation[i, j] = True\n",
    "        all_conn_mutations.append(mutation)\n",
    "all_conn_mutations = np.array(all_conn_mutations)"
   ],
   "metadata": {
    "collapsed": false
   }
  },
  {
   "cell_type": "code",
   "execution_count": 140,
   "outputs": [],
   "source": [
    "def eval_function_mutation(input_states, mutations, functions, connectivity, used_connectivity):\n",
    "    mutated_functions = np.bitwise_xor(np.expand_dims(mutations, 1), functions)\n",
    "    connectivity = np.broadcast_to(np.expand_dims(connectivity, 0), (*mutated_functions.shape[:-1], connectivity.shape[-1]))\n",
    "    used_connectivity = np.broadcast_to(np.expand_dims(used_connectivity, 0), (*mutated_functions.shape[:-1], used_connectivity.shape[-1]))\n",
    "    batched_input_states = np.expand_dims(np.expand_dims(input_states, 1), 1)\n",
    "    batched_input_states = np.broadcast_to(batched_input_states, (batched_input_states.shape[0], *connectivity.shape[:-2], batched_input_states.shape[-1]))\n",
    "    perf = ragged_task_evolution.evaluate_populations(batched_input_states, 1, mutated_functions, connectivity, used_connectivity, 10,0, tasks.evaluate_and_task)\n",
    "    return perf\n",
    "\n",
    "perf_no_noise = eval_function_mutation(input_states, all_mutations, nn_best_functions, nn_best_connectivity, nn_best_used_connectivity)\n",
    "perf_noise = eval_function_mutation(input_states, all_mutations, best_functions, best_connectivity, best_used_connectivity)\n",
    "n_lethal_noise = np.count_nonzero(perf_noise, 0)\n",
    "n_lethal_no_noise = np.count_nonzero(perf_no_noise, 0)"
   ],
   "metadata": {
    "collapsed": false
   }
  },
  {
   "cell_type": "code",
   "execution_count": 141,
   "outputs": [],
   "source": [
    "def eval_conn_mutation(input_states, mutations, functions, connectivity, used_connectivity):\n",
    "    mutated_used_conn = np.bitwise_xor(np.expand_dims(mutations, 1), used_connectivity)\n",
    "    connectivity = np.broadcast_to(np.expand_dims(connectivity, 0), (*mutated_used_conn.shape[:-1], connectivity.shape[-1]))\n",
    "    functions = np.broadcast_to(np.expand_dims(functions, 0), (*mutated_used_conn.shape[:-1], functions.shape[-1]))\n",
    "    batched_input_states = np.expand_dims(np.expand_dims(input_states, 1), 1)\n",
    "    batched_input_states = np.broadcast_to(batched_input_states, (batched_input_states.shape[0], *functions.shape[:-2], batched_input_states.shape[-1]))\n",
    "    perf = ragged_task_evolution.evaluate_populations(batched_input_states, 1, functions, connectivity, mutated_used_conn, 10,0, tasks.evaluate_and_task)\n",
    "    return perf\n",
    "\n",
    "perf_c_no_noise = eval_conn_mutation(input_states, all_conn_mutations, nn_best_functions, nn_best_connectivity, nn_best_used_connectivity)\n",
    "perf_c_noise = eval_conn_mutation(input_states, all_conn_mutations, best_functions, best_connectivity, best_used_connectivity)\n",
    "n_lethal_c_noise = np.count_nonzero(perf_c_noise, 0)\n",
    "n_lethal_no_c_noise = np.count_nonzero(perf_c_no_noise, 0)"
   ],
   "metadata": {
    "collapsed": false
   }
  },
  {
   "cell_type": "code",
   "execution_count": 142,
   "outputs": [],
   "source": [
    "def make_cdf(data):\n",
    "    data_sorted = np.sort(data)\n",
    "    p = 1. * np.arange(len(data)) / (len(data) - 1)\n",
    "    return data_sorted, p\n",
    "\n",
    "sorted_lethal_noise, p_lethal_noise = make_cdf(n_lethal_noise)\n",
    "sorted_lethal_nn, p_lethal_nn = make_cdf(n_lethal_no_noise)\n",
    "\n",
    "sorted_lethal_c_noise, p_lethal_c_noise = make_cdf(n_lethal_c_noise)\n",
    "sorted_lethal_no_c_noise, p_lethal_no_c_noise = make_cdf(n_lethal_no_c_noise)"
   ],
   "metadata": {
    "collapsed": false
   }
  },
  {
   "cell_type": "code",
   "execution_count": 157,
   "outputs": [],
   "source": [
    "%matplotlib tk\n",
    "fig, axs = plt.subplots(ncols=1, nrows=2, sharex=True, figsize=(4, 3))\n",
    "\n",
    "lethal_noise_frac = sorted_lethal_noise/np.shape(all_mutations)[0]\n",
    "lethal_nn_frac = sorted_lethal_nn/np.shape(all_mutations)[0]\n",
    "all_frac = np.concatenate([lethal_noise_frac, lethal_nn_frac])\n",
    "\n",
    "axs[0].plot(lethal_noise_frac, p_lethal_noise, color=\"C0\", label=\"Error-Correcting\")\n",
    "axs[0].plot(lethal_nn_frac, p_lethal_nn, color=\"C1\", label=\"Non-Error-Correcting\")\n",
    "axs[0].set_xlim([np.min(all_frac), np.max(all_frac)])\n",
    "axs[0].set_ylim([0, 1])\n",
    "axs[0].legend()\n",
    "\n",
    "#axs[0].set_title(\"Truth Table Mutations\")\n",
    "\n",
    "lethal_c_noise_frac = sorted_lethal_c_noise/np.shape(all_conn_mutations)[0]\n",
    "lethal_c_nn_frac = sorted_lethal_no_c_noise/np.shape(all_conn_mutations)[0]\n",
    "all_c_frac = np.concatenate([lethal_c_noise_frac, lethal_c_nn_frac])\n",
    "axs[1].plot(lethal_c_noise_frac, p_lethal_c_noise, color=\"C2\")\n",
    "axs[1].plot(lethal_c_nn_frac, p_lethal_no_c_noise, color=\"C3\")\n",
    "axs[1].set_xlim([np.min(all_c_frac), np.max(all_c_frac)])\n",
    "axs[0].set_ylabel(\"Cumulative \\n Prob.\")\n",
    "axs[1].set_ylabel(\"Cumulative \\n  Prob.\")\n",
    "#axs[0].set_xlabel(\"Lethal Mutation Fraction\")\n",
    "axs[1].set_xlabel(\" Lethal Mutation Fraction\")\n",
    "#axs[1].set_title(\"Connectivity Mutations\")\n",
    "fig.tight_layout()\n",
    "\n",
    "#fig.savefig(os.path.join(plt_save_dir, \"mutation_survival.svg\"))"
   ],
   "metadata": {
    "collapsed": false
   }
  },
  {
   "cell_type": "code",
   "execution_count": 144,
   "outputs": [],
   "source": [
    "def eval_function_round_survival(input_states, mutations, functions, connectivity, used_connectivity):\n",
    "    if functions.shape[0] > 1000:\n",
    "        ind = np.random.choice(functions.shape[0], 1000)\n",
    "        functions = functions[ind]\n",
    "        connectivity = connectivity[ind]\n",
    "        used_connectivity = used_connectivity[ind]\n",
    "    mutated_functions = np.bitwise_xor(np.expand_dims(mutations, 1), functions)\n",
    "    connectivity = np.broadcast_to(np.expand_dims(connectivity, 0), (*mutated_functions.shape[:-1], connectivity.shape[-1]))\n",
    "    used_connectivity = np.broadcast_to(np.expand_dims(used_connectivity, 0), (*mutated_functions.shape[:-1], used_connectivity.shape[-1]))\n",
    "    batched_input_states = np.expand_dims(np.expand_dims(input_states, 1), 1)\n",
    "    batched_input_states = np.broadcast_to(batched_input_states, (batched_input_states.shape[0], *connectivity.shape[:-2], batched_input_states.shape[-1]))\n",
    "    perf = ragged_task_evolution.evaluate_populations(batched_input_states, 1, mutated_functions, connectivity, used_connectivity, 10,0, tasks.evaluate_and_task)\n",
    "    survived = np.squeeze(np.argwhere(perf.flatten() == 0))\n",
    "    survived_functons = np.reshape(mutated_functions, (-1, *mutated_functions.shape[2:]))[survived]\n",
    "    survived_connectivity = np.reshape(connectivity, (-1, *connectivity.shape[2:]))[survived]\n",
    "    survived_used_connectivity = np.reshape(used_connectivity, (-1, *used_connectivity.shape[2:]))[survived]\n",
    "    return len(survived)/(mutated_functions.shape[0] * mutated_functions.shape[1]), survived_functons, survived_connectivity, survived_used_connectivity\n",
    "\n",
    "rounds_to_test = 5\n",
    "this_functions = nn_best_functions\n",
    "this_connectivity = nn_best_connectivity\n",
    "this_used_connectivity = nn_best_used_connectivity\n",
    "survival_probs = [1]\n",
    "for _ in range(rounds_to_test):\n",
    "    this_survival_prob, this_functions, this_connectivity, this_used_connectivity = eval_function_round_survival(input_states, all_mutations, this_functions, this_connectivity, this_used_connectivity)\n",
    "    survival_probs.append(this_survival_prob)"
   ],
   "metadata": {
    "collapsed": false
   }
  },
  {
   "cell_type": "code",
   "execution_count": 145,
   "outputs": [],
   "source": [
    "this_functions = best_functions\n",
    "this_connectivity = best_connectivity\n",
    "this_used_connectivity = best_used_connectivity\n",
    "noise_survival_probs = [1]\n",
    "for _ in range(rounds_to_test):\n",
    "    this_survival_prob, this_functions, this_connectivity, this_used_connectivity = eval_function_round_survival(input_states, all_mutations, this_functions, this_connectivity, this_used_connectivity)\n",
    "    noise_survival_probs.append(this_survival_prob)\n"
   ],
   "metadata": {
    "collapsed": false
   }
  },
  {
   "cell_type": "code",
   "execution_count": 146,
   "outputs": [],
   "source": [
    "rounds = np.arange(start=0, stop=rounds_to_test+1, step=1)\n",
    "cum_nn_surv_prob = np.cumprod(np.array(survival_probs))\n",
    "cum_noise_surv_prob = np.cumprod(np.array(noise_survival_probs))\n"
   ],
   "metadata": {
    "collapsed": false
   }
  },
  {
   "cell_type": "code",
   "execution_count": 147,
   "outputs": [
    {
     "data": {
      "text/plain": "<Figure size 300x300 with 1 Axes>",
      "image/png": "[encoded data removed]"
     },
     "metadata": {},
     "output_type": "display_data"
    }
   ],
   "source": [
    "fig, axs = plt.subplots(figsize=(3,3))\n",
    "noise_death_prob = 1 - cum_noise_surv_prob\n",
    "no_noise_death_prob = 1 - cum_nn_surv_prob\n",
    "axs.plot(rounds, noise_death_prob, linestyle=\"--\", marker=\"o\", color=\"C2\")\n",
    "axs.plot(rounds, no_noise_death_prob, linestyle=\"--\", marker=\"o\", color=\"C3\")\n",
    "axs.set_xlabel(\"Number of Sequential Mutations\")\n",
    "axs.set_ylabel(\"Death Probability\")\n",
    "axs.set_title(\"Sequential Truth Table Mutations\")\n",
    "axs.set_xlim([0, rounds_to_test])\n",
    "axs.set_ylim([0, np.max(np.concatenate([noise_death_prob, no_noise_death_prob]))])\n",
    "\n",
    "fig.savefig(os.path.join(plt_save_dir, \"cum_mutation_survival.svg\"))"
   ],
   "metadata": {
    "collapsed": false
   }
  },
  {
   "cell_type": "code",
   "execution_count": 147,
   "outputs": [],
   "source": [],
   "metadata": {
    "collapsed": false
   }
  }
 ],
 "metadata": {
  "kernelspec": {
   "display_name": "Python 3",
   "language": "python",
   "name": "python3"
  },
  "language_info": {
   "codemirror_mode": {
    "name": "ipython",
    "version": 2
   },
   "file_extension": ".py",
   "mimetype": "text/x-python",
   "name": "python",
   "nbconvert_exporter": "python",
   "pygments_lexer": "ipython2",
   "version": "2.7.6"
  }
 },
 "nbformat": 4,
 "nbformat_minor": 0
}
